{
 "cells": [
  {
   "cell_type": "code",
   "execution_count": 44,
   "metadata": {},
   "outputs": [],
   "source": [
    "P = [(2,3),(4,3)]"
   ]
  },
  {
   "cell_type": "markdown",
   "metadata": {},
   "source": [
    "Polynomial is represented as a list of tuples. For each tuple, the first term is the coefficient, and the second term is the exponent"
   ]
  },
  {
   "cell_type": "code",
   "execution_count": 45,
   "metadata": {},
   "outputs": [],
   "source": [
    "def MergePolynomial(Polynomial):\n",
    "    NewPolynomial = []\n",
    "    ExponentsList = [x for (_,x) in P]\n",
    "    UniqueExponentList = list(set(ExponentsList))\n",
    "    UniqueExponentList\n",
    "    for Exponent in UniqueExponentList:\n",
    "        CoefficientList = [x for (x,y) in Polynomial if y == Exponent]\n",
    "        NewMonomial = (sum(CoefficientList),Exponent)\n",
    "        NewPolynomial.append(NewMonomial)\n",
    "    return NewPolynomial"
   ]
  },
  {
   "cell_type": "markdown",
   "metadata": {},
   "source": [
    "Monomials are merged if they share exponent"
   ]
  },
  {
   "cell_type": "code",
   "execution_count": 50,
   "metadata": {},
   "outputs": [],
   "source": [
    "def Derivative(Polynomial):\n",
    "    Polynomial = MergePolynomial(Polynomial)\n",
    "    NewPolynomial = []\n",
    "    for Monomial in Polynomial:\n",
    "        Coefficient = Monomial[0]\n",
    "        Exponent = Monomial[1]\n",
    "        NewCoefficient = Coefficient * Exponent\n",
    "        if NewCoefficient == 0:\n",
    "            pass\n",
    "        else:\n",
    "            NewExponent = Exponent - 1\n",
    "            NewMonomial = (NewCoefficient, NewExponent)\n",
    "            NewPolynomial.append(NewMonomial)\n",
    "    return NewPolynomial"
   ]
  },
  {
   "cell_type": "code",
   "execution_count": 51,
   "metadata": {},
   "outputs": [],
   "source": [
    "def Evaluate(Polynomial, Value):\n",
    "    Evaluation = 0\n",
    "    for Monomial in Polynomial:\n",
    "        Coefficient = Monomial[0]\n",
    "        Exponent = Monomial[1]\n",
    "        Evaluation += (Value ** Exponent) * Coefficient\n",
    "    return Evaluation"
   ]
  },
  {
   "cell_type": "markdown",
   "metadata": {},
   "source": [
    "Usage samples"
   ]
  },
  {
   "cell_type": "code",
   "execution_count": 52,
   "metadata": {},
   "outputs": [
    {
     "data": {
      "text/plain": [
       "[(18, 2)]"
      ]
     },
     "execution_count": 52,
     "metadata": {},
     "output_type": "execute_result"
    }
   ],
   "source": [
    "Derivative(P)"
   ]
  },
  {
   "cell_type": "code",
   "execution_count": 53,
   "metadata": {},
   "outputs": [
    {
     "data": {
      "text/plain": [
       "48"
      ]
     },
     "execution_count": 53,
     "metadata": {},
     "output_type": "execute_result"
    }
   ],
   "source": [
    "Evaluate(P,2)"
   ]
  },
  {
   "cell_type": "code",
   "execution_count": 55,
   "metadata": {},
   "outputs": [],
   "source": [
    "P2 = [(0,2),(5,1000),(1,1)]"
   ]
  },
  {
   "cell_type": "code",
   "execution_count": 56,
   "metadata": {},
   "outputs": [
    {
     "data": {
      "text/plain": [
       "[(5000, 999), (1, 0)]"
      ]
     },
     "execution_count": 56,
     "metadata": {},
     "output_type": "execute_result"
    }
   ],
   "source": [
    "Derivative(P2)"
   ]
  },
  {
   "cell_type": "code",
   "execution_count": 58,
   "metadata": {},
   "outputs": [
    {
     "data": {
      "text/plain": [
       "6"
      ]
     },
     "execution_count": 58,
     "metadata": {},
     "output_type": "execute_result"
    }
   ],
   "source": [
    "Evaluate(P2,1)"
   ]
  },
  {
   "cell_type": "code",
   "execution_count": 61,
   "metadata": {},
   "outputs": [],
   "source": [
    "P3 = [(-1,3),(-5,3),(3,1)]"
   ]
  },
  {
   "cell_type": "code",
   "execution_count": 62,
   "metadata": {},
   "outputs": [
    {
     "data": {
      "text/plain": [
       "[(3, 0)]"
      ]
     },
     "execution_count": 62,
     "metadata": {},
     "output_type": "execute_result"
    }
   ],
   "source": [
    "Derivative(P3)"
   ]
  },
  {
   "cell_type": "code",
   "execution_count": 63,
   "metadata": {},
   "outputs": [
    {
     "data": {
      "text/plain": [
       "5.25"
      ]
     },
     "execution_count": 63,
     "metadata": {},
     "output_type": "execute_result"
    }
   ],
   "source": [
    "Evaluate(P3,2)"
   ]
  },
  {
   "cell_type": "code",
   "execution_count": null,
   "metadata": {},
   "outputs": [],
   "source": []
  }
 ],
 "metadata": {
  "kernelspec": {
   "display_name": "Python 3",
   "language": "python",
   "name": "python3"
  },
  "language_info": {
   "codemirror_mode": {
    "name": "ipython",
    "version": 3
   },
   "file_extension": ".py",
   "mimetype": "text/x-python",
   "name": "python",
   "nbconvert_exporter": "python",
   "pygments_lexer": "ipython3",
   "version": "3.6.9"
  }
 },
 "nbformat": 4,
 "nbformat_minor": 2
}
