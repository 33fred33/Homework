{
 "cells": [
  {
   "cell_type": "code",
   "execution_count": 96,
   "metadata": {},
   "outputs": [],
   "source": [
    "def SizeAsTuple(Matrix):\n",
    "    \"\"\"\n",
    "    Input (Matrix): should be a list of lists\n",
    "    Returns (m, n) as a tuple\n",
    "    \"\"\"\n",
    "    try:\n",
    "        #Verifies if given item is a list before measuring its length\n",
    "        if isinstance(Matrix,list):\n",
    "            m = len(Matrix)\n",
    "            #Verifies if every row in the matrix is a list\n",
    "            if isinstance(Matrix[0],list):\n",
    "                n = len(Matrix[0])\n",
    "            else:\n",
    "                raise AttributeError(\"ERROR: Given item is not a matrix\")\n",
    "        else:\n",
    "            raise AttributeError(\"ERROR: Given item is not a matrix\")\n",
    "    except AttributeError as Error:\n",
    "        print(Error)\n",
    "    return (m,n)"
   ]
  },
  {
   "cell_type": "code",
   "execution_count": 97,
   "metadata": {},
   "outputs": [],
   "source": [
    "def Sum(Matrix1,Matrix2):\n",
    "    \"\"\"\n",
    "    Input (Matrix1, Matrix2): should be of the same size\n",
    "    Returns 2 outputs: sum of Matrix1 and Matrix2, substraction of Matrix1 - Matrix2\n",
    "    \"\"\"\n",
    "    try:\n",
    "        #Outoput size is calculated\n",
    "        m = SizeAsTuple(Matrix1)[0]\n",
    "        n = SizeAsTuple(Matrix1)[1]\n",
    "        if SizeAsTuple(Matrix1) == SizeAsTuple(Matrix2):\n",
    "            #Both operations are performed with list comprehension\n",
    "            SumMatrix = [[Matrix1[i][j] + Matrix2[i][j] for j in range(n)] for i in range(m)]\n",
    "            SubstractMatrix = [[Matrix1[i][j] - Matrix2[i][j] for j in range(n)] for i in range(m)]\n",
    "        else:\n",
    "            raise AttributeError(\"ERROR: Matrix1 size and Matrix2 size are not equal\")\n",
    "    except AttributeError as Error:\n",
    "        print(Error)\n",
    "    \n",
    "    return SumMatrix, SubstractMatrix"
   ]
  },
  {
   "cell_type": "code",
   "execution_count": 98,
   "metadata": {},
   "outputs": [],
   "source": [
    "def Multiply(Matrix1, Matrix2):\n",
    "    \"\"\"\n",
    "    Input (Matrix1, Matrix2): Matrix1 colums should equal Matrix2 rows\n",
    "    Returns Matrix1 * Matrix2\n",
    "    \"\"\"\n",
    "    try:\n",
    "        n1 = len(Matrix1)\n",
    "        n2 = len(Matrix2)\n",
    "        m1 = len(Matrix1[0])\n",
    "        m2 = len(Matrix2[0])\n",
    "        if m1 == n2:\n",
    "            #Initialized output matrix\n",
    "            NewMatrix = [[0 for _ in range(m2)] for _ in range(n1)]\n",
    "            for RowIndex1 in range(n1):\n",
    "                for ColumnIndex2 in range(m2):\n",
    "                    for i in range(m1):\n",
    "                        #Iteration m¡finds elements to multiply and they are summed to corresponding index in resulting matrix\n",
    "                        NewMatrix[RowIndex1][ColumnIndex2] += Matrix1[RowIndex1][i] * Matrix2[i][ColumnIndex2]\n",
    "        else:\n",
    "            raise AttributeError(\"ERROR: Invalid size\")\n",
    "    except AttributeError as Error:\n",
    "        print(Error)\n",
    "    return NewMatrix"
   ]
  },
  {
   "cell_type": "code",
   "execution_count": 99,
   "metadata": {},
   "outputs": [],
   "source": [
    "def Determinant(Matrix):\n",
    "    \"\"\"\n",
    "    Input (Matrix) is a 2x2 matrix only\n",
    "    Returns determinant as a float\n",
    "    \"\"\"\n",
    "    try:\n",
    "        m = SizeAsTuple(Matrix)[0]\n",
    "        n = SizeAsTuple(Matrix)[1]\n",
    "        if n == 2 and m == 2:\n",
    "            Det = Matrix[0][0] * Matrix[1][1] - Matrix[1][0] * Matrix[0][1]\n",
    "        else:\n",
    "            raise AttributeError(\"ERROR: Matrix should be 2x2\")\n",
    "            #Task asks to raise an error if matrix is not 2x2, following code to calculate determinant for bigger matrices will then be commented\n",
    "            \"\"\"\n",
    "            Det = 0\n",
    "            ExpandedMatrix = [[y for y in x] for x in Matrix]\n",
    "            for Row in Matrix:\n",
    "                ExpandedMatrix.append(Row)\n",
    "\n",
    "            for i in range(n):\n",
    "                Value = 1\n",
    "                for j in range(m):\n",
    "\n",
    "                    Value = Value * ExpandedMatrix[i+j][j]\n",
    "                Det += Value\n",
    "            for i in range(n):\n",
    "                Value = 1\n",
    "                for j in range(m):\n",
    "\n",
    "                    Value = Value * ExpandedMatrix[i+j][m-1-j]\n",
    "                Det -= Value \n",
    "            \"\"\"\n",
    "    except AttributeError as Error:\n",
    "        print(Error)\n",
    "    return Det"
   ]
  },
  {
   "cell_type": "code",
   "execution_count": 100,
   "metadata": {},
   "outputs": [],
   "source": [
    "def Inverse(Matrix):\n",
    "    \"\"\"\n",
    "    Input (Matrix) is a 2x2 matrix\n",
    "    Returns inverse of the Matrix as a list of lists\n",
    "    \"\"\"\n",
    "    try:\n",
    "        m = SizeAsTuple(Matrix)[0]\n",
    "        n = SizeAsTuple(Matrix)[1]\n",
    "        if n == 2 and m == 2:\n",
    "            Det = Determinant(Matrix)\n",
    "            InverseMatrix = [[Matrix[1][1]/Det, -Matrix[0][1]/Det],[-Matrix[1][0]/Det, Matrix[0][0]/Det]]\n",
    "        else:\n",
    "            raise AttributeError(\"ERROR: Matrix should be 2x2\")\n",
    "    except AttributeError as Error:\n",
    "        print(Error)\n",
    "    return InverseMatrix"
   ]
  },
  {
   "cell_type": "code",
   "execution_count": 101,
   "metadata": {},
   "outputs": [],
   "source": [
    "def Transpose(Matrix):\n",
    "    \"\"\"\n",
    "    Input (Matrix) Matrix is a list of lists\n",
    "    Returns the transposed matrix as a list of lists\n",
    "    \"\"\"\n",
    "    #Error handling is made with the SizeAsTuple function. No further verification is needed\n",
    "    m = SizeAsTuple(Matrix)[1]\n",
    "    NewMatrix = []\n",
    "    for ColumnIndex in range(m):\n",
    "        NewRow = [Row[ColumnIndex] for Row in Matrix]\n",
    "        NewMatrix.append(NewRow)\n",
    "    return NewMatrix"
   ]
  },
  {
   "cell_type": "code",
   "execution_count": 102,
   "metadata": {},
   "outputs": [],
   "source": [
    "import csv\n",
    "\n",
    "def CreateFile(Name, Matrix):\n",
    "    \"\"\"\n",
    "    Input (Name,Matrix) Name is the file name + extension, Matrix is a list of lists\n",
    "    \"\"\"\n",
    "    File = open(Name,\"w\")\n",
    "    Writer = csv.writer(File, delimiter = \",\")\n",
    "    for i in range(len(Matrix)):\n",
    "        Writer.writerow(Matrix[i])"
   ]
  },
  {
   "cell_type": "code",
   "execution_count": 103,
   "metadata": {},
   "outputs": [],
   "source": [
    "def ReadFile(Name):\n",
    "    \"\"\"\n",
    "    Input (Name) is the file name + extension\n",
    "    Returns the matrix contained in the file as a list of lists\n",
    "    \"\"\"\n",
    "    File = open(Name)\n",
    "    Reader = csv.reader(File, delimiter = \",\")\n",
    "    Matrix = []\n",
    "    for Row in Reader:\n",
    "        Matrix.append(Row)\n",
    "    return Matrix\n",
    "        \n",
    "    "
   ]
  },
  {
   "cell_type": "markdown",
   "metadata": {},
   "source": [
    "\n",
    "Test cases:\n"
   ]
  },
  {
   "cell_type": "code",
   "execution_count": 104,
   "metadata": {},
   "outputs": [],
   "source": [
    "#2x2 matrices\n",
    "M1 = [[2,3],[1,1]]\n",
    "M2 = [[2,1],[3,2]]\n",
    "#Test\n",
    "M_BigSize = [[2,3,4],[4,5,6],[7,8,9],[1,2,3]]\n",
    "M_NotMatrix = [0,3]"
   ]
  },
  {
   "cell_type": "markdown",
   "metadata": {},
   "source": [
    "Task 1: Provide the size of a matrix as a 2-dimensional tuple\n",
    "\n",
    "M1 is a 4x3 matrix. Expected output: (4,3)"
   ]
  },
  {
   "cell_type": "code",
   "execution_count": 105,
   "metadata": {},
   "outputs": [
    {
     "data": {
      "text/plain": [
       "(2, 2)"
      ]
     },
     "execution_count": 105,
     "metadata": {},
     "output_type": "execute_result"
    }
   ],
   "source": [
    "SizeAsTuple(M1)"
   ]
  },
  {
   "cell_type": "code",
   "execution_count": 106,
   "metadata": {},
   "outputs": [
    {
     "data": {
      "text/plain": [
       "(4, 3)"
      ]
     },
     "execution_count": 106,
     "metadata": {},
     "output_type": "execute_result"
    }
   ],
   "source": [
    "SizeAsTuple(M_BigSize)"
   ]
  },
  {
   "cell_type": "code",
   "execution_count": 107,
   "metadata": {},
   "outputs": [
    {
     "name": "stdout",
     "output_type": "stream",
     "text": [
      "ERROR: Given item is not a matrix\n"
     ]
    },
    {
     "ename": "UnboundLocalError",
     "evalue": "local variable 'n' referenced before assignment",
     "output_type": "error",
     "traceback": [
      "\u001b[0;31m---------------------------------------------------------------------------\u001b[0m",
      "\u001b[0;31mUnboundLocalError\u001b[0m                         Traceback (most recent call last)",
      "\u001b[0;32m<ipython-input-107-2335ac5912c0>\u001b[0m in \u001b[0;36m<module>\u001b[0;34m\u001b[0m\n\u001b[0;32m----> 1\u001b[0;31m \u001b[0mSizeAsTuple\u001b[0m\u001b[0;34m(\u001b[0m\u001b[0mM_NotMatrix\u001b[0m\u001b[0;34m)\u001b[0m \u001b[0;31m#Error handling sample\u001b[0m\u001b[0;34m\u001b[0m\u001b[0;34m\u001b[0m\u001b[0m\n\u001b[0m",
      "\u001b[0;32m<ipython-input-96-f70e900a70ed>\u001b[0m in \u001b[0;36mSizeAsTuple\u001b[0;34m(Matrix)\u001b[0m\n\u001b[1;32m     17\u001b[0m     \u001b[0;32mexcept\u001b[0m \u001b[0mAttributeError\u001b[0m \u001b[0;32mas\u001b[0m \u001b[0mError\u001b[0m\u001b[0;34m:\u001b[0m\u001b[0;34m\u001b[0m\u001b[0;34m\u001b[0m\u001b[0m\n\u001b[1;32m     18\u001b[0m         \u001b[0mprint\u001b[0m\u001b[0;34m(\u001b[0m\u001b[0mError\u001b[0m\u001b[0;34m)\u001b[0m\u001b[0;34m\u001b[0m\u001b[0;34m\u001b[0m\u001b[0m\n\u001b[0;32m---> 19\u001b[0;31m     \u001b[0;32mreturn\u001b[0m \u001b[0;34m(\u001b[0m\u001b[0mm\u001b[0m\u001b[0;34m,\u001b[0m\u001b[0mn\u001b[0m\u001b[0;34m)\u001b[0m\u001b[0;34m\u001b[0m\u001b[0;34m\u001b[0m\u001b[0m\n\u001b[0m",
      "\u001b[0;31mUnboundLocalError\u001b[0m: local variable 'n' referenced before assignment"
     ]
    }
   ],
   "source": [
    "SizeAsTuple(M_NotMatrix) #Error handling sample"
   ]
  },
  {
   "cell_type": "markdown",
   "metadata": {},
   "source": [
    "Task 2: Sum/subtract the matrix with another matrix of suitable size\n",
    "\n",
    "M1 + M2 = [[2+2 , 3+1],[1+3 , 1+2]]\n",
    "\n",
    "Expected output: [[4,4],[4,3]]"
   ]
  },
  {
   "cell_type": "code",
   "execution_count": 108,
   "metadata": {},
   "outputs": [
    {
     "data": {
      "text/plain": [
       "[[4, 4], [4, 3]]"
      ]
     },
     "execution_count": 108,
     "metadata": {},
     "output_type": "execute_result"
    }
   ],
   "source": [
    "Msum,Msubstract = Sum(M1,M2)\n",
    "Msum"
   ]
  },
  {
   "cell_type": "markdown",
   "metadata": {},
   "source": [
    "M1 - M2 = [[2-2 , 3-1],[1-3 , 1-2]]\n",
    "\n",
    "Expected output: [[0,2],[-2,-1]]"
   ]
  },
  {
   "cell_type": "code",
   "execution_count": 109,
   "metadata": {},
   "outputs": [
    {
     "data": {
      "text/plain": [
       "[[0, 2], [-2, -1]]"
      ]
     },
     "execution_count": 109,
     "metadata": {},
     "output_type": "execute_result"
    }
   ],
   "source": [
    "Msubstract"
   ]
  },
  {
   "cell_type": "markdown",
   "metadata": {},
   "source": [
    "Task 3: Multiply the matrix with a matrix or vector of suitable size\n",
    "\n",
    "M1 x M2 can be performed: 2x2 multiplies 2x2\n",
    "\n",
    "2x2 + 3x3 = 13\n",
    "\n",
    "2x1 + 3x2 = 8\n",
    "\n",
    "1x2 + 1x3 = 5\n",
    "\n",
    "1x1 + 1x2 = 3\n",
    "\n",
    "Expected result: [[13, 8], [5, 3]]"
   ]
  },
  {
   "cell_type": "code",
   "execution_count": 110,
   "metadata": {},
   "outputs": [
    {
     "data": {
      "text/plain": [
       "[[13, 8], [5, 3]]"
      ]
     },
     "execution_count": 110,
     "metadata": {},
     "output_type": "execute_result"
    }
   ],
   "source": [
    "Multiply(M1,M2)"
   ]
  },
  {
   "cell_type": "code",
   "execution_count": 111,
   "metadata": {},
   "outputs": [
    {
     "name": "stdout",
     "output_type": "stream",
     "text": [
      "ERROR: Invalid size\n"
     ]
    },
    {
     "ename": "UnboundLocalError",
     "evalue": "local variable 'NewMatrix' referenced before assignment",
     "output_type": "error",
     "traceback": [
      "\u001b[0;31m---------------------------------------------------------------------------\u001b[0m",
      "\u001b[0;31mUnboundLocalError\u001b[0m                         Traceback (most recent call last)",
      "\u001b[0;32m<ipython-input-111-57571172a9e0>\u001b[0m in \u001b[0;36m<module>\u001b[0;34m\u001b[0m\n\u001b[0;32m----> 1\u001b[0;31m \u001b[0mMultiply\u001b[0m\u001b[0;34m(\u001b[0m\u001b[0mM1\u001b[0m\u001b[0;34m,\u001b[0m\u001b[0mM_BigSize\u001b[0m\u001b[0;34m)\u001b[0m \u001b[0;31m#Error handling test\u001b[0m\u001b[0;34m\u001b[0m\u001b[0;34m\u001b[0m\u001b[0m\n\u001b[0m",
      "\u001b[0;32m<ipython-input-98-856938f65d98>\u001b[0m in \u001b[0;36mMultiply\u001b[0;34m(Matrix1, Matrix2)\u001b[0m\n\u001b[1;32m     21\u001b[0m     \u001b[0;32mexcept\u001b[0m \u001b[0mAttributeError\u001b[0m \u001b[0;32mas\u001b[0m \u001b[0mError\u001b[0m\u001b[0;34m:\u001b[0m\u001b[0;34m\u001b[0m\u001b[0;34m\u001b[0m\u001b[0m\n\u001b[1;32m     22\u001b[0m         \u001b[0mprint\u001b[0m\u001b[0;34m(\u001b[0m\u001b[0mError\u001b[0m\u001b[0;34m)\u001b[0m\u001b[0;34m\u001b[0m\u001b[0;34m\u001b[0m\u001b[0m\n\u001b[0;32m---> 23\u001b[0;31m     \u001b[0;32mreturn\u001b[0m \u001b[0mNewMatrix\u001b[0m\u001b[0;34m\u001b[0m\u001b[0;34m\u001b[0m\u001b[0m\n\u001b[0m",
      "\u001b[0;31mUnboundLocalError\u001b[0m: local variable 'NewMatrix' referenced before assignment"
     ]
    }
   ],
   "source": [
    "Multiply(M1,M_BigSize) #Error handling test"
   ]
  },
  {
   "cell_type": "markdown",
   "metadata": {},
   "source": [
    "Task 4: Calculate the determinant of a 2x2 matrix. For any other matrix this function should raise a suitable exception.\n",
    "\n",
    "Determinant for M1 is:\n",
    "\n",
    "2x1 - 3x1 = -1\n",
    "\n",
    "Expected output: -1"
   ]
  },
  {
   "cell_type": "code",
   "execution_count": 112,
   "metadata": {},
   "outputs": [
    {
     "data": {
      "text/plain": [
       "-1"
      ]
     },
     "execution_count": 112,
     "metadata": {},
     "output_type": "execute_result"
    }
   ],
   "source": [
    "Determinant(M1)"
   ]
  },
  {
   "cell_type": "code",
   "execution_count": 113,
   "metadata": {},
   "outputs": [
    {
     "name": "stdout",
     "output_type": "stream",
     "text": [
      "ERROR: Matrix should be 2x2\n"
     ]
    },
    {
     "ename": "UnboundLocalError",
     "evalue": "local variable 'Det' referenced before assignment",
     "output_type": "error",
     "traceback": [
      "\u001b[0;31m---------------------------------------------------------------------------\u001b[0m",
      "\u001b[0;31mUnboundLocalError\u001b[0m                         Traceback (most recent call last)",
      "\u001b[0;32m<ipython-input-113-440e86f0eef1>\u001b[0m in \u001b[0;36m<module>\u001b[0;34m\u001b[0m\n\u001b[0;32m----> 1\u001b[0;31m \u001b[0mDeterminant\u001b[0m\u001b[0;34m(\u001b[0m\u001b[0mM_BigSize\u001b[0m\u001b[0;34m)\u001b[0m \u001b[0;31m#Error handling sample\u001b[0m\u001b[0;34m\u001b[0m\u001b[0;34m\u001b[0m\u001b[0m\n\u001b[0m",
      "\u001b[0;32m<ipython-input-99-699846039385>\u001b[0m in \u001b[0;36mDeterminant\u001b[0;34m(Matrix)\u001b[0m\n\u001b[1;32m     33\u001b[0m     \u001b[0;32mexcept\u001b[0m \u001b[0mAttributeError\u001b[0m \u001b[0;32mas\u001b[0m \u001b[0mError\u001b[0m\u001b[0;34m:\u001b[0m\u001b[0;34m\u001b[0m\u001b[0;34m\u001b[0m\u001b[0m\n\u001b[1;32m     34\u001b[0m         \u001b[0mprint\u001b[0m\u001b[0;34m(\u001b[0m\u001b[0mError\u001b[0m\u001b[0;34m)\u001b[0m\u001b[0;34m\u001b[0m\u001b[0;34m\u001b[0m\u001b[0m\n\u001b[0;32m---> 35\u001b[0;31m     \u001b[0;32mreturn\u001b[0m \u001b[0mDet\u001b[0m\u001b[0;34m\u001b[0m\u001b[0;34m\u001b[0m\u001b[0m\n\u001b[0m",
      "\u001b[0;31mUnboundLocalError\u001b[0m: local variable 'Det' referenced before assignment"
     ]
    }
   ],
   "source": [
    "Determinant(M_BigSize) #Error handling sample"
   ]
  },
  {
   "cell_type": "markdown",
   "metadata": {},
   "source": [
    "Task 5: Calculate the inverse of a 2x2 matrix. For any other matrix this function should raise a suitable exception.\n",
    "\n",
    "Determinant for M1 is -1\n",
    "\n",
    "Expected output: [[-1, 3], [1, -2]]"
   ]
  },
  {
   "cell_type": "code",
   "execution_count": 114,
   "metadata": {},
   "outputs": [
    {
     "data": {
      "text/plain": [
       "[[-1.0, 3.0], [1.0, -2.0]]"
      ]
     },
     "execution_count": 114,
     "metadata": {},
     "output_type": "execute_result"
    }
   ],
   "source": [
    "Inverse(M1)"
   ]
  },
  {
   "cell_type": "code",
   "execution_count": 115,
   "metadata": {},
   "outputs": [
    {
     "name": "stdout",
     "output_type": "stream",
     "text": [
      "ERROR: Matrix should be 2x2\n"
     ]
    },
    {
     "ename": "UnboundLocalError",
     "evalue": "local variable 'InverseMatrix' referenced before assignment",
     "output_type": "error",
     "traceback": [
      "\u001b[0;31m---------------------------------------------------------------------------\u001b[0m",
      "\u001b[0;31mUnboundLocalError\u001b[0m                         Traceback (most recent call last)",
      "\u001b[0;32m<ipython-input-115-2f55536a9ceb>\u001b[0m in \u001b[0;36m<module>\u001b[0;34m\u001b[0m\n\u001b[0;32m----> 1\u001b[0;31m \u001b[0mInverse\u001b[0m\u001b[0;34m(\u001b[0m\u001b[0mM_BigSize\u001b[0m\u001b[0;34m)\u001b[0m \u001b[0;31m#Error handling sample\u001b[0m\u001b[0;34m\u001b[0m\u001b[0;34m\u001b[0m\u001b[0m\n\u001b[0m",
      "\u001b[0;32m<ipython-input-100-79fd91eae8c9>\u001b[0m in \u001b[0;36mInverse\u001b[0;34m(Matrix)\u001b[0m\n\u001b[1;32m     14\u001b[0m     \u001b[0;32mexcept\u001b[0m \u001b[0mAttributeError\u001b[0m \u001b[0;32mas\u001b[0m \u001b[0mError\u001b[0m\u001b[0;34m:\u001b[0m\u001b[0;34m\u001b[0m\u001b[0;34m\u001b[0m\u001b[0m\n\u001b[1;32m     15\u001b[0m         \u001b[0mprint\u001b[0m\u001b[0;34m(\u001b[0m\u001b[0mError\u001b[0m\u001b[0;34m)\u001b[0m\u001b[0;34m\u001b[0m\u001b[0;34m\u001b[0m\u001b[0m\n\u001b[0;32m---> 16\u001b[0;31m     \u001b[0;32mreturn\u001b[0m \u001b[0mInverseMatrix\u001b[0m\u001b[0;34m\u001b[0m\u001b[0;34m\u001b[0m\u001b[0m\n\u001b[0m",
      "\u001b[0;31mUnboundLocalError\u001b[0m: local variable 'InverseMatrix' referenced before assignment"
     ]
    }
   ],
   "source": [
    "Inverse(M_BigSize) #Error handling sample"
   ]
  },
  {
   "cell_type": "markdown",
   "metadata": {},
   "source": [
    "Task 6: Calculate the transpose of an mxn matrix"
   ]
  },
  {
   "cell_type": "code",
   "execution_count": 116,
   "metadata": {},
   "outputs": [
    {
     "data": {
      "text/plain": [
       "[[2, 1], [3, 1]]"
      ]
     },
     "execution_count": 116,
     "metadata": {},
     "output_type": "execute_result"
    }
   ],
   "source": [
    "Transpose(M1)"
   ]
  },
  {
   "cell_type": "code",
   "execution_count": 117,
   "metadata": {},
   "outputs": [
    {
     "data": {
      "text/plain": [
       "[[2, 4, 7, 1], [3, 5, 8, 2], [4, 6, 9, 3]]"
      ]
     },
     "execution_count": 117,
     "metadata": {},
     "output_type": "execute_result"
    }
   ],
   "source": [
    "Transpose(M_BigSize)"
   ]
  },
  {
   "cell_type": "markdown",
   "metadata": {},
   "source": [
    "Task 7: Export the matrix to a CSV file\n",
    "\n",
    "File is created in the same directory, with default name"
   ]
  },
  {
   "cell_type": "code",
   "execution_count": 118,
   "metadata": {},
   "outputs": [],
   "source": [
    "CreateFile(\"Matrix.csv\",M1)"
   ]
  },
  {
   "cell_type": "markdown",
   "metadata": {},
   "source": [
    "Task 8: Import the matrix from CSV file"
   ]
  },
  {
   "cell_type": "code",
   "execution_count": 119,
   "metadata": {},
   "outputs": [
    {
     "data": {
      "text/plain": [
       "[['2', '3'], ['1', '1']]"
      ]
     },
     "execution_count": 119,
     "metadata": {},
     "output_type": "execute_result"
    }
   ],
   "source": [
    "ReadFile(\"Matrix.csv\")"
   ]
  },
  {
   "cell_type": "code",
   "execution_count": null,
   "metadata": {},
   "outputs": [],
   "source": []
  }
 ],
 "metadata": {
  "kernelspec": {
   "display_name": "Python 3",
   "language": "python",
   "name": "python3"
  },
  "language_info": {
   "codemirror_mode": {
    "name": "ipython",
    "version": 3
   },
   "file_extension": ".py",
   "mimetype": "text/x-python",
   "name": "python",
   "nbconvert_exporter": "python",
   "pygments_lexer": "ipython3",
   "version": "3.6.9"
  }
 },
 "nbformat": 4,
 "nbformat_minor": 2
}
