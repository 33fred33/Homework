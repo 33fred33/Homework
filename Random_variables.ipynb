{
 "cells": [
  {
   "cell_type": "code",
   "execution_count": 3,
   "metadata": {},
   "outputs": [],
   "source": [
    "import numpy as np\n",
    "import math\n",
    "import random as rd\n",
    "import matplotlib.pyplot as plt\n",
    "#module imported to help second experiment to be more interesting\n",
    "import time"
   ]
  },
  {
   "cell_type": "markdown",
   "metadata": {},
   "source": [
    "## Experiment 1: Chess games length\n",
    "\n",
    "Discret variable\n",
    "\n",
    "Poisson distribution\n",
    "\n",
    "This experiment illustrates the average moves played per game in elite chess tournaments.\n",
    "The mean game length is 41, obtained from 928,025 games along the past 545 years from the site http://www.chessgames.com/chessstats.html  "
   ]
  },
  {
   "cell_type": "code",
   "execution_count": 60,
   "metadata": {},
   "outputs": [],
   "source": [
    "#Experiment cell\n",
    "#Unitary experiments are executed and gathered in a list using list comprehension\n",
    "Samples = 928025\n",
    "ChessLengths = []\n",
    "for i in range(Samples):\n",
    "    ChessLengths.append(int(np.random.poisson(lam = 41)))\n",
    "#Old solution before announcement was also gathering unitary samples:\n",
    "#ChessLenghts = [int(np.random.poisson(lam = 41)) for _ in range(928025)]"
   ]
  },
  {
   "cell_type": "code",
   "execution_count": 61,
   "metadata": {},
   "outputs": [
    {
     "data": {
      "image/png": "[encoded data removed]",
      "text/plain": [
       "<Figure size 432x288 with 1 Axes>"
      ]
     },
     "metadata": {
      "needs_background": "light"
     },
     "output_type": "display_data"
    }
   ],
   "source": [
    "#Outputs and graphs\n",
    "Bins = len(set(ChessLengths))\n",
    "c, b, i = plt.hist(ChessLengths, Bins, density=True)\n",
    "plt.xlabel(\"Game length\")\n",
    "plt.ylabel(\"Density\")\n",
    "plt.grid()"
   ]
  },
  {
   "cell_type": "code",
   "execution_count": 62,
   "metadata": {},
   "outputs": [
    {
     "name": "stdout",
     "output_type": "stream",
     "text": [
      "CalculatedMean 40.99753562673419\n",
      "CalculatedStdDev 6.399128917914374\n"
     ]
    }
   ],
   "source": [
    "CalculatedMean = np.mean(ChessLengths)\n",
    "CalculatedStdDev = np.std(ChessLengths)\n",
    "print(\"CalculatedMean\",CalculatedMean)\n",
    "print(\"CalculatedStdDev\",CalculatedStdDev)"
   ]
  },
  {
   "cell_type": "markdown",
   "metadata": {},
   "source": [
    "## Experiment 2: Testing random.random() function\n",
    "Continuous uniformly distributed variable\n",
    "\n",
    "random.random() is said to be a uniformly distributed pseudo random number. If random.random() had any time related dependencies, multiple samples generated after same lenght time steps would lead to thresholds\n",
    "\n",
    "To verify the distribution, 100 bins will be used"
   ]
  },
  {
   "cell_type": "code",
   "execution_count": 50,
   "metadata": {},
   "outputs": [],
   "source": [
    "#Experiment cell\n",
    "SampleAttempts = 100000\n",
    "Sample = []\n",
    "#Count is increased every time a sample is appended for speed reasons\n",
    "SamplesCount = 0\n",
    "PastTime = 0\n",
    "while SamplesCount < SampleAttempts:\n",
    "    NewTime = time.time()\n",
    "    if NewTime - PastTime > 0.0001:\n",
    "        Sample.append(rd.random())\n",
    "        SamplesCount += 1\n",
    "        PastTime = NewTime"
   ]
  },
  {
   "cell_type": "code",
   "execution_count": 63,
   "metadata": {},
   "outputs": [
    {
     "data": {
      "image/png": "[encoded data removed]",
      "text/plain": [
       "<Figure size 432x288 with 1 Axes>"
      ]
     },
     "metadata": {
      "needs_background": "light"
     },
     "output_type": "display_data"
    }
   ],
   "source": [
    "#Cell with outputs and graphs\n",
    "Bins = 100\n",
    "plt.hist(Sample,Bins,density = True)\n",
    "plt.xlabel(\"Value\")\n",
    "plt.ylabel(\"Density\")\n",
    "plt.grid()"
   ]
  },
  {
   "cell_type": "code",
   "execution_count": 66,
   "metadata": {},
   "outputs": [
    {
     "name": "stdout",
     "output_type": "stream",
     "text": [
      "CalculatedMean 0.5008082981953182\n",
      "ExpectedMean = 0.5\n"
     ]
    }
   ],
   "source": [
    "Domain = range(Bins)\n",
    "DigitsCount = [len([L for L in Sample if int(L*Bins) == x]) for x in Domain]\n",
    "CalculatedMean = np.mean(Sample)\n",
    "print(\"CalculatedMean\",CalculatedMean)\n",
    "print(\"ExpectedMean = 0.5\")"
   ]
  },
  {
   "cell_type": "code",
   "execution_count": null,
   "metadata": {},
   "outputs": [],
   "source": []
  }
 ],
 "metadata": {
  "kernelspec": {
   "display_name": "Python 3",
   "language": "python",
   "name": "python3"
  },
  "language_info": {
   "codemirror_mode": {
    "name": "ipython",
    "version": 3
   },
   "file_extension": ".py",
   "mimetype": "text/x-python",
   "name": "python",
   "nbconvert_exporter": "python",
   "pygments_lexer": "ipython3",
   "version": "3.6.9"
  }
 },
 "nbformat": 4,
 "nbformat_minor": 2
}
